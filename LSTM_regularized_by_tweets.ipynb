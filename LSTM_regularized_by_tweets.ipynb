{
 "cells": [
  {
   "cell_type": "code",
   "execution_count": 1,
   "metadata": {},
   "outputs": [
    {
     "name": "stderr",
     "output_type": "stream",
     "text": [
      "[nltk_data] Downloading package stopwords to\n",
      "[nltk_data]     /Users/warwick/nltk_data...\n",
      "[nltk_data]   Package stopwords is already up-to-date!\n",
      "[nltk_data] Downloading package wordnet to /Users/warwick/nltk_data...\n",
      "[nltk_data]   Package wordnet is already up-to-date!\n",
      "[nltk_data] Downloading package punkt to /Users/warwick/nltk_data...\n",
      "[nltk_data]   Package punkt is already up-to-date!\n"
     ]
    }
   ],
   "source": [
    "import pandas as pd\n",
    "import numpy as np\n",
    "import matplotlib.pyplot as plt\n",
    "from collections import defaultdict\n",
    "from sklearn.utils import shuffle\n",
    "import plotly.graph_objects as go\n",
    "import csv\n",
    "import nltk\n",
    "nltk.download('stopwords')\n",
    "nltk.download('wordnet')\n",
    "nltk.download('punkt')\n",
    "from nltk.corpus import stopwords\n",
    "from nltk.stem import WordNetLemmatizer\n",
    "from bs4 import BeautifulSoup\n",
    "import string\n",
    "from sklearn.feature_extraction.text import CountVectorizer\n",
    "import seaborn as sns\n",
    "from keras.models import Sequential\n",
    "from keras.layers import Dense, LSTM\n",
    "from datetime import datetime\n",
    "from sklearn.preprocessing import MinMaxScaler\n",
    "from bs4 import BeautifulSoup\n",
    "from nltk.corpus import stopwords\n",
    "from nltk.stem.porter import PorterStemmer\n",
    "english_stemmer=nltk.stem.SnowballStemmer('english')"
   ]
  },
  {
   "cell_type": "code",
   "execution_count": 226,
   "metadata": {},
   "outputs": [],
   "source": [
    "import re\n",
    "from textblob import TextBlob\n",
    "from pandas.tseries.offsets import BDay\n",
    "from sklearn.linear_model import LinearRegression"
   ]
  },
  {
   "cell_type": "code",
   "execution_count": 105,
   "metadata": {},
   "outputs": [
    {
     "name": "stdout",
     "output_type": "stream",
     "text": [
      "the number of tweets is: 3218\n",
      "features are: Index(['Tweet', 'Time', 'Retweet from'], dtype='object')\n",
      "the number of features are: 3\n"
     ]
    }
   ],
   "source": [
    "tweets = pd.read_csv(\"data_elonmusk.csv\", encoding='latin1')\n",
    "tweets = tweets.assign(Time=pd.to_datetime(tweets.Time)).drop(['row ID','User'], axis='columns')\n",
    "n_data = tweets.shape[0]\n",
    "feature_list = tweets.columns\n",
    "print(\"the number of tweets is:\", n_data)\n",
    "print(\"features are:\", feature_list)\n",
    "print(\"the number of features are:\", len(feature_list))"
   ]
  },
  {
   "cell_type": "code",
   "execution_count": 106,
   "metadata": {},
   "outputs": [
    {
     "name": "stdout",
     "output_type": "stream",
     "text": [
      "0       20170929\n",
      "1       20170929\n",
      "2       20170929\n",
      "3       20170929\n",
      "4       20170929\n",
      "          ...   \n",
      "3213    20121120\n",
      "3214    20121120\n",
      "3215    20121120\n",
      "3216    20121119\n",
      "3217    20121116\n",
      "Name: time_string, Length: 3218, dtype: object\n"
     ]
    }
   ],
   "source": [
    "times = tweets['Time'][:].tolist()\n",
    "times = [times[i].strftime(\"%d%m%Y\") for i in range(len(tweets))]\n",
    "times = [times[i][4:8]+times[i][2:4]+times[i][0:2] for i in range(len(tweets))]\n",
    "tweets.loc[:,(\"time_string\")] = times\n",
    "print(tweets['time_string'])"
   ]
  },
  {
   "cell_type": "code",
   "execution_count": 107,
   "metadata": {},
   "outputs": [
    {
     "name": "stderr",
     "output_type": "stream",
     "text": [
      "/opt/anaconda3/lib/python3.7/site-packages/bs4/__init__.py:421: MarkupResemblesLocatorWarning: \"https://t.co/iypzm9fdqk\" looks like a URL. Beautiful Soup is not an HTTP client. You should probably use an HTTP client like requests to get the document behind the URL, and feed that document to Beautiful Soup.\n",
      "  MarkupResemblesLocatorWarning\n",
      "/opt/anaconda3/lib/python3.7/site-packages/bs4/__init__.py:421: MarkupResemblesLocatorWarning: \"https://t.co/is6hthjjoj\" looks like a URL. Beautiful Soup is not an HTTP client. You should probably use an HTTP client like requests to get the document behind the URL, and feed that document to Beautiful Soup.\n",
      "  MarkupResemblesLocatorWarning\n",
      "/opt/anaconda3/lib/python3.7/site-packages/bs4/__init__.py:421: MarkupResemblesLocatorWarning: \"https://t.co/tj4frdw34z\" looks like a URL. Beautiful Soup is not an HTTP client. You should probably use an HTTP client like requests to get the document behind the URL, and feed that document to Beautiful Soup.\n",
      "  MarkupResemblesLocatorWarning\n",
      "/opt/anaconda3/lib/python3.7/site-packages/bs4/__init__.py:421: MarkupResemblesLocatorWarning: \"https://t.co/spuazyaxgb\" looks like a URL. Beautiful Soup is not an HTTP client. You should probably use an HTTP client like requests to get the document behind the URL, and feed that document to Beautiful Soup.\n",
      "  MarkupResemblesLocatorWarning\n",
      "/opt/anaconda3/lib/python3.7/site-packages/bs4/__init__.py:421: MarkupResemblesLocatorWarning: \"https://t.co/uu6dqa3kx4\" looks like a URL. Beautiful Soup is not an HTTP client. You should probably use an HTTP client like requests to get the document behind the URL, and feed that document to Beautiful Soup.\n",
      "  MarkupResemblesLocatorWarning\n",
      "/opt/anaconda3/lib/python3.7/site-packages/bs4/__init__.py:421: MarkupResemblesLocatorWarning: \"https://t.co/3ysxzq1evj\" looks like a URL. Beautiful Soup is not an HTTP client. You should probably use an HTTP client like requests to get the document behind the URL, and feed that document to Beautiful Soup.\n",
      "  MarkupResemblesLocatorWarning\n",
      "/opt/anaconda3/lib/python3.7/site-packages/bs4/__init__.py:421: MarkupResemblesLocatorWarning: \"https://t.co/6ve3yjostm\" looks like a URL. Beautiful Soup is not an HTTP client. You should probably use an HTTP client like requests to get the document behind the URL, and feed that document to Beautiful Soup.\n",
      "  MarkupResemblesLocatorWarning\n",
      "/opt/anaconda3/lib/python3.7/site-packages/bs4/__init__.py:421: MarkupResemblesLocatorWarning: \"https://t.co/kgkz1z3fwj\" looks like a URL. Beautiful Soup is not an HTTP client. You should probably use an HTTP client like requests to get the document behind the URL, and feed that document to Beautiful Soup.\n",
      "  MarkupResemblesLocatorWarning\n"
     ]
    }
   ],
   "source": [
    "def remove_html(text):\n",
    "    soup = BeautifulSoup(text, 'lxml')\n",
    "    text_after = soup.get_text()\n",
    "    return text_after\n",
    "\n",
    "def remove_punctuation(text):\n",
    "    text_after = \"\".join([c for c in text if c not in string.punctuation])\n",
    "    return text_after\n",
    "\n",
    "def remove_stopwords(text):\n",
    "    text_after = [w for w in text if w not in stopwords.words('english')]\n",
    "    return text_after\n",
    "\n",
    "lemmatizer = WordNetLemmatizer()\n",
    "def lemmatize(text):\n",
    "    text_after =[lemmatizer.lemmatize(i) for i in text]\n",
    "    return text_after\n",
    "\n",
    "def remove_url(input_str):\n",
    "    str_p = re.compile(r'https?://\\S+|www\\.\\S+')\n",
    "    return str_p.sub(r'',input_str)\n",
    "\n",
    "def remove_numbers(input_str):\n",
    "    str_p = re.compile(r'\\d')\n",
    "    return str_p.sub(r'',input_str)\n",
    "\n",
    "def preprocess_text(text):\n",
    "    text = text.lower()\n",
    "    text = remove_html(text)\n",
    "    text = remove_numbers(text)\n",
    "    text = remove_url(text)\n",
    "    \"\"\"\n",
    "    text = lemmatize(text)\n",
    "    text = remove_stopwords(text)\n",
    "    text = remove_punctuation(text)\n",
    "    \"\"\"\n",
    "    return text\n",
    "\n",
    "def preprocess_data(data):\n",
    "    text_list =[]\n",
    "    for text in data:\n",
    "        text_after = preprocess_text(text)\n",
    "        text_list.append(text_after)\n",
    "    return text_list\n",
    "\n",
    "tweets_list = tweets['Tweet'].tolist()\n",
    "tweets_text = preprocess_data(tweets_list)\n",
    "tweets['tweets_clean'] = tweets_text"
   ]
  },
  {
   "cell_type": "code",
   "execution_count": 108,
   "metadata": {},
   "outputs": [
    {
     "name": "stdout",
     "output_type": "stream",
     "text": [
      "3218\n",
      "0    @meltingice assuming max acceleration of  to  ...\n",
      "1    rt @spacex: bfr is capable of transporting sat...\n",
      "2                                       @bigajm yup :)\n",
      "3                                               part  \n",
      "4    fly to most places on earth in under  mins and...\n",
      "Name: tweets_clean, dtype: object\n"
     ]
    }
   ],
   "source": [
    "print(len(tweets_text))\n",
    "print(tweets[\"tweets_clean\"].head(5))"
   ]
  },
  {
   "cell_type": "code",
   "execution_count": 109,
   "metadata": {},
   "outputs": [
    {
     "name": "stdout",
     "output_type": "stream",
     "text": [
      "0    1\n",
      "1    1\n",
      "2    1\n",
      "3   -1\n",
      "4    1\n",
      "Name: sentiment, dtype: int64\n"
     ]
    },
    {
     "name": "stderr",
     "output_type": "stream",
     "text": [
      "/opt/anaconda3/lib/python3.7/site-packages/pandas/core/base.py:1145: FutureWarning: onOffset is a deprecated, use is_on_offset instead\n",
      "  new_values = map_f(values, mapper)\n"
     ]
    },
    {
     "data": {
      "image/png": "[encoded data removed]",
      "text/plain": [
       "<Figure size 1008x504 with 1 Axes>"
      ]
     },
     "metadata": {
      "needs_background": "light"
     },
     "output_type": "display_data"
    }
   ],
   "source": [
    "#implement TextBlob library to get the sentiment of a tweets\n",
    "#return positive, negative and neutral \n",
    "def get_sentiment(tweet):\n",
    "    tweet_polarity = TextBlob(tweet).sentiment.polarity\n",
    "    if tweet_polarity>0:\n",
    "        return 1\n",
    "    elif tweet_polarity<0:\n",
    "        return 0\n",
    "    else:\n",
    "        return -1\n",
    "    \n",
    "sentiment_list = [get_sentiment(i) for i in tweets_text]\n",
    "sentiment_polarity_list = [TextBlob(i).sentiment.polarity for i in tweets_text]\n",
    "tweets[\"sentiment\"] = sentiment_list\n",
    "tweets[\"polarity\"] = sentiment_polarity_list\n",
    "\n",
    "#we only consider tweets on business day\n",
    "business_day = pd.to_datetime(tweets['Time']).map(BDay().onOffset)\n",
    "tweets = tweets[business_day]\n",
    "\n",
    "\n",
    "print(tweets[\"sentiment\"].head(5))\n",
    "tweets['sentiment'].value_counts().head(3).plot.bar(figsize=(14, 7), fontsize=16)\n",
    "plt.gca().set_title('classification of tweets by sentiment', fontsize=20)\n",
    "plt.gca().set_xticklabels(plt.gca().get_xticklabels(), rotation=0, ha='right', fontsize=16)\n",
    "pass"
   ]
  },
  {
   "cell_type": "code",
   "execution_count": 171,
   "metadata": {},
   "outputs": [
    {
     "name": "stdout",
     "output_type": "stream",
     "text": [
      "             polarity\n",
      "time_string          \n",
      "20121116     0.000000\n",
      "20121119     0.416667\n",
      "20121120     0.046458\n",
      "20121121     0.270833\n",
      "20121122     0.116667\n",
      "20121123     0.149306\n",
      "20121127    -0.200000\n",
      "20121128     0.288095\n",
      "20121129     0.250000\n",
      "20121204     0.034848\n",
      "<class 'pandas.core.frame.DataFrame'>\n"
     ]
    }
   ],
   "source": [
    "#get the sentiment score for each day\n",
    "#the sentiment score is the sum of sentiment score of individual tweet in the same day\n",
    "tweets_sentiment_polarity = tweets[['time_string','polarity']].copy()\n",
    "tweets_sentiment_polarity = tweets_sentiment_polarity.groupby(tweets_sentiment_polarity.time_string).mean()\n",
    "tweets_sentiment_polarity.sort_values(by=['time_string'], inplace=True)\n",
    "print(tweets_sentiment_polarity.head(10))\n",
    "print(type(tweets_sentiment_polarity))"
   ]
  },
  {
   "cell_type": "code",
   "execution_count": 118,
   "metadata": {},
   "outputs": [
    {
     "data": {
      "text/html": [
       "<div>\n",
       "<style scoped>\n",
       "    .dataframe tbody tr th:only-of-type {\n",
       "        vertical-align: middle;\n",
       "    }\n",
       "\n",
       "    .dataframe tbody tr th {\n",
       "        vertical-align: top;\n",
       "    }\n",
       "\n",
       "    .dataframe thead th {\n",
       "        text-align: right;\n",
       "    }\n",
       "</style>\n",
       "<table border=\"1\" class=\"dataframe\">\n",
       "  <thead>\n",
       "    <tr style=\"text-align: right;\">\n",
       "      <th></th>\n",
       "      <th>sentiment</th>\n",
       "    </tr>\n",
       "    <tr>\n",
       "      <th>time_string</th>\n",
       "      <th></th>\n",
       "    </tr>\n",
       "  </thead>\n",
       "  <tbody>\n",
       "    <tr>\n",
       "      <th>20121116</th>\n",
       "      <td>-1</td>\n",
       "    </tr>\n",
       "    <tr>\n",
       "      <th>20121119</th>\n",
       "      <td>1</td>\n",
       "    </tr>\n",
       "    <tr>\n",
       "      <th>20121120</th>\n",
       "      <td>-1</td>\n",
       "    </tr>\n",
       "    <tr>\n",
       "      <th>20121121</th>\n",
       "      <td>1</td>\n",
       "    </tr>\n",
       "    <tr>\n",
       "      <th>20121122</th>\n",
       "      <td>-1</td>\n",
       "    </tr>\n",
       "    <tr>\n",
       "      <th>...</th>\n",
       "      <td>...</td>\n",
       "    </tr>\n",
       "    <tr>\n",
       "      <th>20170925</th>\n",
       "      <td>1</td>\n",
       "    </tr>\n",
       "    <tr>\n",
       "      <th>20170926</th>\n",
       "      <td>1</td>\n",
       "    </tr>\n",
       "    <tr>\n",
       "      <th>20170927</th>\n",
       "      <td>1</td>\n",
       "    </tr>\n",
       "    <tr>\n",
       "      <th>20170928</th>\n",
       "      <td>1</td>\n",
       "    </tr>\n",
       "    <tr>\n",
       "      <th>20170929</th>\n",
       "      <td>1</td>\n",
       "    </tr>\n",
       "  </tbody>\n",
       "</table>\n",
       "<p>651 rows × 1 columns</p>\n",
       "</div>"
      ],
      "text/plain": [
       "             sentiment\n",
       "time_string           \n",
       "20121116            -1\n",
       "20121119             1\n",
       "20121120            -1\n",
       "20121121             1\n",
       "20121122            -1\n",
       "...                ...\n",
       "20170925             1\n",
       "20170926             1\n",
       "20170927             1\n",
       "20170928             1\n",
       "20170929             1\n",
       "\n",
       "[651 rows x 1 columns]"
      ]
     },
     "execution_count": 118,
     "metadata": {},
     "output_type": "execute_result"
    }
   ],
   "source": [
    "tweets_sentiment = tweets[['time_string','sentiment']].copy()\n",
    "tweets_sentiment = tweets_sentiment.groupby(tweets_sentiment.time_string).agg(lambda x: x.value_counts().index[0])\n",
    "tweets_sentiment.sort_values(by=['time_string'], inplace=True)\n",
    "tweets_sentiment"
   ]
  },
  {
   "cell_type": "code",
   "execution_count": null,
   "metadata": {},
   "outputs": [],
   "source": []
  },
  {
   "cell_type": "code",
   "execution_count": 174,
   "metadata": {},
   "outputs": [
    {
     "name": "stdout",
     "output_type": "stream",
     "text": [
      "the number of stock data is: 2416\n",
      "features are: Index(['Date', 'Open', 'High', 'Low', 'Close', 'Adj Close', 'Volume'], dtype='object')\n",
      "the number of features are: 7\n",
      "601    20121115\n",
      "Name: times, dtype: object\n",
      "1827    20170929\n",
      "Name: times, dtype: object\n",
      "the number of trading days between 2012/11/15 and 2017/09/29 is: 1227\n"
     ]
    }
   ],
   "source": [
    "tesla_stock = pd.read_csv(\"TSLA.csv\", encoding='latin1')\n",
    "n_data = tesla_stock.shape[0]\n",
    "feature_list = tesla_stock.columns\n",
    "print(\"the number of stock data is:\", n_data)\n",
    "print(\"features are:\", feature_list)\n",
    "print(\"the number of features are:\", len(feature_list))\n",
    "\n",
    "times = tesla_stock['Date'][:].tolist()\n",
    "times = [s.replace(\"-\", \"\") for s in times]\n",
    "tesla_stock.loc[:,(\"times\")] = times\n",
    "\n",
    "#we only consider stock between 2012/11/15 and 2017/09/29, in accord with Elon Musk's tweet\n",
    "tesla = tesla_stock[(tesla_stock.times >= \"20121115\") & (tesla_stock.times <= \"20170929\")]\n",
    "print(tesla['times'].head(1))\n",
    "print(tesla['times'].tail(1))\n",
    "print(\"the number of trading days between 2012/11/15 and 2017/09/29 is:\",tesla.shape[0])"
   ]
  },
  {
   "cell_type": "code",
   "execution_count": 200,
   "metadata": {},
   "outputs": [
    {
     "name": "stdout",
     "output_type": "stream",
     "text": [
      "Index(['Date', 'Open', 'High', 'Low', 'Close', 'Adj Close', 'Volume', 'times',\n",
      "       'polarity'],\n",
      "      dtype='object')\n",
      "[['20121116', 0.0], ['20121119', 0.4166666666666667], ['20121120', 0.04645833333333334], ['20121121', 0.2708333333333333], ['20121122', 0.11666666666666665]]\n",
      "Index(['Date', 'Open', 'High', 'Low', 'Close', 'Adj Close', 'Volume', 'times',\n",
      "       'polarity'],\n",
      "      dtype='object')\n",
      "601    0.000000\n",
      "602    0.000000\n",
      "603    0.416667\n",
      "604    0.046458\n",
      "605    0.270833\n",
      "Name: polarity, dtype: float64\n"
     ]
    },
    {
     "name": "stderr",
     "output_type": "stream",
     "text": [
      "/opt/anaconda3/lib/python3.7/site-packages/ipykernel_launcher.py:24: SettingWithCopyWarning: \n",
      "A value is trying to be set on a copy of a slice from a DataFrame.\n",
      "Try using .loc[row_indexer,col_indexer] = value instead\n",
      "\n",
      "See the caveats in the documentation: https://pandas.pydata.org/pandas-docs/stable/user_guide/indexing.html#returning-a-view-versus-a-copy\n"
     ]
    }
   ],
   "source": [
    "#advanced model: LSTM regularized by Elon Musk tweet's sentiment polarity\n",
    "#1. perform simple LSTM on the first 40% training set\n",
    "#2. using this model to predict the next 30% validation set and 30% testing set\n",
    "#3. for the validation set, we calculate the L1-norm of predict closing price and real closing price\n",
    "#4. we perform a linear regression of polarity of tweets and L1-norm\n",
    "#5. For the testing set, we add the result of LSTM prediction and linear regression on tweets polarity as the final prediction\n",
    "\n",
    "\n",
    "#merge sentiment polarity and tesla stock price\n",
    "print(tesla.columns)\n",
    "tesla_time = tesla['times'].tolist()\n",
    "polarity_list = []\n",
    "\n",
    "tweet_time = [[index,row.values[0]] for index, row in tweets_sentiment_polarity.iterrows()]\n",
    "print(tweet_time[:5])\n",
    "\n",
    "for i in tesla_time:\n",
    "    polarity_list.append(0.0)\n",
    "    for [index, row] in tweet_time:\n",
    "        if i == index:\n",
    "            polarity_list = polarity_list[:-1]\n",
    "            polarity_list.append(row)\n",
    "    \n",
    "tesla[\"polarity\"] = polarity_list\n",
    "print(tesla.columns)\n",
    "print(tesla[\"polarity\"].head())"
   ]
  },
  {
   "cell_type": "code",
   "execution_count": 218,
   "metadata": {},
   "outputs": [
    {
     "name": "stdout",
     "output_type": "stream",
     "text": [
      "total number of stock data is: 1227\n",
      "[array([0.        , 0.00287989, 0.00592918, 0.00615506, 0.00465865,\n",
      "       0.00369869, 0.00409396, 0.00375516, 0.00680445, 0.00810322,\n",
      "       0.00847027, 0.01072901, 0.00869615, 0.00815969, 0.00869615,\n",
      "       0.00945846, 0.01058784, 0.01259246, 0.01253599, 0.00787735,\n",
      "       0.00844204, 0.01010786, 0.01064431, 0.01070078, 0.01019256,\n",
      "       0.00897849, 0.00976904, 0.00782088, 0.00810322, 0.00677622])]\n",
      "[0.00861143768705179]\n",
      "[array([0.        , 0.00287989, 0.00592918, 0.00615506, 0.00465865,\n",
      "       0.00369869, 0.00409396, 0.00375516, 0.00680445, 0.00810322,\n",
      "       0.00847027, 0.01072901, 0.00869615, 0.00815969, 0.00869615,\n",
      "       0.00945846, 0.01058784, 0.01259246, 0.01253599, 0.00787735,\n",
      "       0.00844204, 0.01010786, 0.01064431, 0.01070078, 0.01019256,\n",
      "       0.00897849, 0.00976904, 0.00782088, 0.00810322, 0.00677622]), array([0.00287989, 0.00592918, 0.00615506, 0.00465865, 0.00369869,\n",
      "       0.00409396, 0.00375516, 0.00680445, 0.00810322, 0.00847027,\n",
      "       0.01072901, 0.00869615, 0.00815969, 0.00869615, 0.00945846,\n",
      "       0.01058784, 0.01259246, 0.01253599, 0.00787735, 0.00844204,\n",
      "       0.01010786, 0.01064431, 0.01070078, 0.01019256, 0.00897849,\n",
      "       0.00976904, 0.00782088, 0.00810322, 0.00677622, 0.00861144])]\n",
      "[0.00861143768705179, 0.01281834377999888]\n"
     ]
    }
   ],
   "source": [
    "close_price_dataframe = tesla.filter(['Close'])\n",
    "close_price = close_price_dataframe.values\n",
    "scaler = MinMaxScaler(feature_range=(0,1))\n",
    "print(\"total number of stock data is:\", len(close_price))\n",
    "\n",
    "#create a scaled closing price\n",
    "scaled_close_price = scaler.fit_transform(close_price)\n",
    "\n",
    "\n",
    "#split data so that the first 40% data as training data and the next 30% as validation dataset\n",
    "#and rest 30% as testing set\n",
    "training_data_len = int(np.ceil(len(scaled_close_price) * 0.4 ))\n",
    "validation_data_len = int(np.ceil(len(scaled_close_price) * 0.3 ))\n",
    "\n",
    "train_data = scaled_close_price\n",
    "x_train = []\n",
    "y_train = []\n",
    "\n",
    "\n",
    "#price of stock based on previous 1 month \n",
    "threshold = 30\n",
    "\n",
    "\n",
    "#in LSTM, the value of y depends on previous 30 days\n",
    "for i in range(threshold, len(train_data)):\n",
    "    x_train.append(train_data[i-threshold:i, 0])\n",
    "    y_train.append(train_data[i, 0])\n",
    "    if i<= (threshold+1):\n",
    "        print(x_train)\n",
    "        print(y_train)\n",
    "        \n",
    "# Convert data to numpy arrays \n",
    "x_train, y_train = np.array(x_train), np.array(y_train)\n",
    "\n",
    "x_train = np.reshape(x_train, (x_train.shape[0], x_train.shape[1], 1))\n",
    "\n"
   ]
  },
  {
   "cell_type": "code",
   "execution_count": 297,
   "metadata": {},
   "outputs": [
    {
     "name": "stdout",
     "output_type": "stream",
     "text": [
      "1197/1197 [==============================] - 9s 8ms/step - loss: 0.0037\n"
     ]
    },
    {
     "data": {
      "text/plain": [
       "<tensorflow.python.keras.callbacks.History at 0x1a537f2910>"
      ]
     },
     "execution_count": 297,
     "metadata": {},
     "output_type": "execute_result"
    }
   ],
   "source": [
    "#Build the LSTM model\n",
    "model = Sequential()\n",
    "#one hidden layer contains 50 neurons\n",
    "model.add(LSTM(50, return_sequences=True, input_shape= (x_train.shape[1], 1)))\n",
    "model.add(LSTM(50, return_sequences= False))\n",
    "model.add(Dense(25))\n",
    "model.add(Dense(1))\n",
    "\n",
    "# Compile the model\n",
    "model.compile(optimizer='adam', loss='mean_squared_error')\n",
    "\n",
    "#Train the model with 1 epoch\n",
    "model.fit(x_train, y_train, batch_size=1, epochs=1)"
   ]
  },
  {
   "cell_type": "code",
   "execution_count": 320,
   "metadata": {},
   "outputs": [
    {
     "name": "stdout",
     "output_type": "stream",
     "text": [
      "length of x_test: 369\n",
      "length of training set: 491\n",
      "length of validation set: 369\n",
      "the root mean squared error of LSTM: 11.202573992524046\n"
     ]
    },
    {
     "name": "stderr",
     "output_type": "stream",
     "text": [
      "/opt/anaconda3/lib/python3.7/site-packages/ipykernel_launcher.py:26: SettingWithCopyWarning: \n",
      "A value is trying to be set on a copy of a slice from a DataFrame.\n",
      "Try using .loc[row_indexer,col_indexer] = value instead\n",
      "\n",
      "See the caveats in the documentation: https://pandas.pydata.org/pandas-docs/stable/user_guide/indexing.html#returning-a-view-versus-a-copy\n"
     ]
    }
   ],
   "source": [
    "test_data = scaled_close_price[training_data_len - threshold: training_data_len +validation_data_len, :]\n",
    "#Create the data sets x_test and y_test\n",
    "x_test = []\n",
    "y_test = close_price[training_data_len:training_data_len+validation_data_len, :]\n",
    "for i in range(threshold, len(test_data)):\n",
    "    x_test.append(test_data[i-threshold:i, 0])\n",
    "    \n",
    "print(\"length of x_test:\", len(x_test))\n",
    "    \n",
    "# Convert the data to a numpy array\n",
    "x_test = np.array(x_test)\n",
    "\n",
    "# Reshape the data\n",
    "x_test = np.reshape(x_test, (x_test.shape[0], x_test.shape[1], 1 ))\n",
    "\n",
    "# Get the models predicted price values \n",
    "predictions = model.predict(x_test)\n",
    "\n",
    "\n",
    "predictions = scaler.inverse_transform(predictions)\n",
    "# Plot the data\n",
    "train = close_price_dataframe[:training_data_len]\n",
    "print(\"length of training set:\", train.shape[0])\n",
    "valid = close_price_dataframe[training_data_len:training_data_len+validation_data_len]\n",
    "print(\"length of validation set:\", valid.shape[0])\n",
    "valid['Predictions'] = predictions\n",
    "\n",
    "\n",
    "\"\"\"\n",
    "\n",
    "# Visualize the data\n",
    "plt.figure(figsize=(20,10))\n",
    "plt.title('LSTM of 2 layers',fontsize = 40)\n",
    "plt.xlabel('Date', fontsize=20)\n",
    "plt.ylabel('Close price', fontsize=20)\n",
    "plt.plot(train['Close'])\n",
    "plt.plot(valid[['Close', 'Predictions']])\n",
    "plt.legend(['Train', 'Val', 'Predictions'], loc='lower right')\n",
    "plt.show()\n",
    "\"\"\"\n",
    "\n",
    "# Get the root mean squared error (RMSE)\n",
    "rmse = np.sqrt(np.mean(((predictions - y_test) ** 2)))\n",
    "print(\"the root mean squared error of LSTM:\", rmse)\n"
   ]
  },
  {
   "cell_type": "code",
   "execution_count": 326,
   "metadata": {},
   "outputs": [
    {
     "name": "stdout",
     "output_type": "stream",
     "text": [
      "1092    236.553879\n",
      "Name: Predictions, dtype: float32\n",
      "1460    257.326752\n",
      "Name: Predictions, dtype: float32\n",
      "[-1.54612721582032, -0.9937442343750149, -2.806671194335962, -2.21685757226561, 2.9988400078124755]\n",
      "the coefficient is: [-2.1612013]\n",
      "the intersection is: 4.550134381516269\n",
      "[4.55013438 4.16111815 3.58531237 3.87475897 4.55013438 4.55013438\n",
      " 4.472091   4.55013438 4.22595419 3.93312475]\n"
     ]
    }
   ],
   "source": [
    "#linear regression on the validation set\n",
    "start_time = 491\n",
    "end_time = 860\n",
    "\n",
    "print(valid[\"Predictions\"].head(1))\n",
    "print(valid[\"Predictions\"].tail(1))\n",
    "valid_list = valid[\"Predictions\"].tolist()\n",
    "\n",
    "close_list = tesla[\"Close\"].tolist()\n",
    "close_list = close_list[start_time:end_time]\n",
    "polarity_list = tesla[\"polarity\"].tolist()\n",
    "polarity_list = polarity_list[start_time:end_time]\n",
    "polarity_list=np.asarray(polarity_list)\n",
    "\n",
    "diff_list = [valid_list[i]-close_list[i] for i in range(0,len(valid_list))]\n",
    "print(diff_list[:5])\n",
    "\n",
    "\n",
    "linear_regression = LinearRegression()\n",
    "linear_regression.fit(polarity_list.reshape(-1, 1), diff_list)\n",
    "print(\"the coefficient is:\", linear_regression.coef_)\n",
    "print(\"the intersection is:\", linear_regression.intercept_)\n",
    "\n",
    "polarity_regularization_list = tesla[\"polarity\"].tolist()[end_time:]\n",
    "polarity_regularization_list= np.asarray(polarity_regularization_list)\n",
    "regularization_list = linear_regression.predict(polarity_regularization_list.reshape(-1, 1))\n",
    "print(regularization_list[:10])"
   ]
  },
  {
   "cell_type": "code",
   "execution_count": 191,
   "metadata": {},
   "outputs": [
    {
     "data": {
      "text/plain": [
       "True"
      ]
     },
     "execution_count": 191,
     "metadata": {},
     "output_type": "execute_result"
    }
   ],
   "source": [
    "#for the rest 30%, implement LSTM regularized by linear regression of polarity of tweets"
   ]
  },
  {
   "cell_type": "code",
   "execution_count": 331,
   "metadata": {},
   "outputs": [
    {
     "name": "stderr",
     "output_type": "stream",
     "text": [
      "/opt/anaconda3/lib/python3.7/site-packages/ipykernel_launcher.py:25: SettingWithCopyWarning: \n",
      "A value is trying to be set on a copy of a slice from a DataFrame.\n",
      "Try using .loc[row_indexer,col_indexer] = value instead\n",
      "\n",
      "See the caveats in the documentation: https://pandas.pydata.org/pandas-docs/stable/user_guide/indexing.html#returning-a-view-versus-a-copy\n"
     ]
    },
    {
     "data": {
      "image/png": "[encoded data removed]",
      "text/plain": [
       "<Figure size 1440x720 with 1 Axes>"
      ]
     },
     "metadata": {
      "needs_background": "light"
     },
     "output_type": "display_data"
    },
    {
     "name": "stdout",
     "output_type": "stream",
     "text": [
      "the root mean squared error of LSTM with regularization of tweets: 13.28572490477743\n"
     ]
    }
   ],
   "source": [
    "test_data = scaled_close_price[training_data_len + validation_data_len - threshold: , :]\n",
    "#Create the data sets x_test and y_test\n",
    "x_test = []\n",
    "y_test = close_price[training_data_len+validation_data_len:, :]\n",
    "for i in range(threshold, len(test_data)):\n",
    "    x_test.append(test_data[i-threshold:i, 0])\n",
    "    \n",
    "# Convert the data to a numpy array\n",
    "x_test = np.array(x_test)\n",
    "\n",
    "# Reshape the data\n",
    "x_test = np.reshape(x_test, (x_test.shape[0], x_test.shape[1], 1 ))\n",
    "\n",
    "# Get the models predicted price values \n",
    "predictions = model.predict(x_test)\n",
    "predictions = scaler.inverse_transform(predictions)\n",
    "\n",
    "\n",
    "#add the linear regression of tweets to regularize prediction\n",
    "predictions = [predictions[i]+regularization_list[i] for i in range(len(predictions))]\n",
    "\n",
    "\n",
    "# Plot the data\n",
    "test = close_price_dataframe[training_data_len+validation_data_len:]\n",
    "test['test_Predictions'] = predictions\n",
    "\n",
    "# Visualize the data\n",
    "plt.figure(figsize=(20,10))\n",
    "plt.title('LSTM of 2 layers regularized by tweet sentiment',fontsize = 40)\n",
    "plt.xlabel('Date', fontsize=20)\n",
    "plt.ylabel('Close price', fontsize=20)\n",
    "plt.plot(train['Close'])\n",
    "plt.plot(valid[['Close', 'Predictions']])\n",
    "plt.plot(test[['Close','test_Predictions']])\n",
    "plt.legend(['Train', 'Val', 'val_Predictions','test','test_Predictions'], loc='lower right')\n",
    "plt.show()\n",
    "\n",
    "\n",
    "\n",
    "\n",
    "\n",
    "# Get the root mean squared error (RMSE)\n",
    "rmse = np.sqrt(np.mean(((predictions - y_test) ** 2)))\n",
    "print(\"the root mean squared error of LSTM with regularization of tweets:\", rmse)\n"
   ]
  },
  {
   "cell_type": "code",
   "execution_count": null,
   "metadata": {},
   "outputs": [],
   "source": []
  }
 ],
 "metadata": {
  "kernelspec": {
   "display_name": "Python 3",
   "language": "python",
   "name": "python3"
  },
  "language_info": {
   "codemirror_mode": {
    "name": "ipython",
    "version": 3
   },
   "file_extension": ".py",
   "mimetype": "text/x-python",
   "name": "python",
   "nbconvert_exporter": "python",
   "pygments_lexer": "ipython3",
   "version": "3.7.7"
  }
 },
 "nbformat": 4,
 "nbformat_minor": 4
}
